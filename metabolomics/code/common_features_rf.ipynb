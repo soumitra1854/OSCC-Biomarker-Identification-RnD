{
 "cells": [
  {
   "cell_type": "code",
   "execution_count": 1,
   "metadata": {},
   "outputs": [],
   "source": [
    "import pandas as pd"
   ]
  },
  {
   "cell_type": "code",
   "execution_count": 5,
   "metadata": {},
   "outputs": [],
   "source": [
    "groups3_positive = pd.read_excel('../results/selected_features_3groups_negative.xlsx')\n",
    "groups3_negative = pd.read_excel('../results/selected_features_3groups_positive.xlsx')\n",
    "tumvsnat_negative = pd.read_excel('../results/selected_features_tumVsnat_negative.xlsx')\n",
    "tumvsnat_positive = pd.read_excel('../results/selected_features_tumVsnat_positive.xlsx')"
   ]
  },
  {
   "cell_type": "code",
   "execution_count": 11,
   "metadata": {},
   "outputs": [
    {
     "name": "stdout",
     "output_type": "stream",
     "text": [
      "set()\n"
     ]
    }
   ],
   "source": [
    "# get the common features across these four dfs from the Random Forest column of each df\n",
    "common_features = set(groups3_positive['Random Forest']).intersection(groups3_negative['Random Forest'], tumvsnat_negative['Random Forest'], tumvsnat_positive['Random Forest'])\n",
    "print(common_features)"
   ]
  },
  {
   "cell_type": "markdown",
   "metadata": {},
   "source": [
    "#### `There is no common feature between the top features selected by the Random Forest model from different datasets.`"
   ]
  }
 ],
 "metadata": {
  "kernelspec": {
   "display_name": "Python 3",
   "language": "python",
   "name": "python3"
  },
  "language_info": {
   "codemirror_mode": {
    "name": "ipython",
    "version": 3
   },
   "file_extension": ".py",
   "mimetype": "text/x-python",
   "name": "python",
   "nbconvert_exporter": "python",
   "pygments_lexer": "ipython3",
   "version": "3.11.4"
  }
 },
 "nbformat": 4,
 "nbformat_minor": 2
}
